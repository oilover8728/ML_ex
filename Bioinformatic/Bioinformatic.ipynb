{
 "cells": [
  {
   "cell_type": "code",
   "execution_count": 1,
   "metadata": {},
   "outputs": [],
   "source": [
    "import math\n",
    "import numpy as np\n",
    "f=open(r'C:\\Users\\123\\Desktop\\Python3\\HW6\\GRCh38_latest_genomic.fna(2020_04_14)')\n",
    "seq={}\n",
    "seq['NC_000006.12']=''\n",
    "start=False\n",
    "for line in f:\n",
    "    if line.startswith('>'):\n",
    "        name=line.replace('>','').split()[0]\n",
    "    if name!='NC_000006.12':\n",
    "        continue\n",
    "    else:\n",
    "        if start==False:\n",
    "            start=True\n",
    "        else:\n",
    "            seq[name]+=line.replace('\\n','').strip()\n",
    "            if len(seq[name])>300001:\n",
    "                break\n",
    "f.close()"
   ]
  },
  {
   "cell_type": "code",
   "execution_count": 2,
   "metadata": {},
   "outputs": [
    {
     "name": "stdout",
     "output_type": "stream",
     "text": []
    }
   ],
   "source": [
    "genome=seq['NC_000006.12'][100000:200000].lower()\n",
    "genome_another=seq['NC_000006.12'][200000:300000].lower()\n",
    "print(genome_another)"
   ]
  },
  {
   "cell_type": "code",
   "execution_count": 3,
   "metadata": {},
   "outputs": [
    {
     "name": "stdout",
     "output_type": "stream",
     "text": [
      "-197688.94757656846\n"
     ]
    }
   ],
   "source": [
    "\"\"\"order 0\"\"\"\n",
    "acgt_o0={}\n",
    "for i in range(100000):\n",
    "    if genome[i:i+1] not in acgt_o0:\n",
    "        acgt_o0[genome[i:i+1]] = 1\n",
    "    else:\n",
    "        acgt_o0[genome[i:i+1]] += 1\n",
    "total=100000\n",
    "o0_p=[]\n",
    "o0_p_log=[]\n",
    "for i in range(4):\n",
    "    num=sorted(acgt_o0.items())[i][1]\n",
    "    o0_p.append(num/total)\n",
    "    o0_p_log.append(math.log(num/total,2))\n",
    "\n",
    "order0_result=0\n",
    "for i in range(4):\n",
    "    order0_result+=sorted(acgt_o0.items())[i][1]*o0_p_log[i]\n",
    "    \n",
    "print(order0_result)"
   ]
  },
  {
   "cell_type": "code",
   "execution_count": 4,
   "metadata": {},
   "outputs": [
    {
     "name": "stdout",
     "output_type": "stream",
     "text": [
      "11197\n",
      "aa\n",
      "11197\n"
     ]
    }
   ],
   "source": [
    "\"\"\"order 1\"\"\"\n",
    "acgt_o1={}\n",
    "for i in range(99999):\n",
    "    if genome[i:i+2] not in acgt_o1:\n",
    "        acgt_o1[genome[i:i+2]] = 1\n",
    "    else:\n",
    "        acgt_o1[genome[i:i+2]] += 1\n",
    "        \n",
    "print(acgt_o1['aa'])\n",
    "a =list(acgt_o1.keys())[12]\n",
    "print(a)\n",
    "print(acgt_o1[a])\n",
    "# print(atcg_o1.items[0])\n",
    "# for i in range(16):\n",
    "#     print(sorted(acgt_o1.items())[i])\n",
    "# print(sum(acgt_o1.values()))"
   ]
  },
  {
   "cell_type": "code",
   "execution_count": 5,
   "metadata": {
    "slideshow": {
     "slide_type": "-"
    }
   },
   "outputs": [
    {
     "name": "stdout",
     "output_type": "stream",
     "text": [
      "-193212.69566026417\n"
     ]
    }
   ],
   "source": [
    "total=99999\n",
    "o1_p=[]\n",
    "o1_p_log=[]\n",
    "# 機率是條件機率，不是除與全部的次數 Ex: ac出現的機率是 a先出現\"後\" c出現的機率!!!\n",
    "# 感覺這邊或許會有更好的寫法，現在是因為排序過後我可以比較容易找到a出現的總次數\n",
    "for i in range(16):\n",
    "    num=sorted(acgt_o1.items())[i][1]\n",
    "    pre_total=sorted(acgt_o0.items())[int(i/4)][1]\n",
    "    o1_p.append(num/pre_total)\n",
    "    o1_p_log.append(math.log(num/pre_total,2))\n",
    "\n",
    "# print(o1_p)\n",
    "# print(sum(o1_p))\n",
    "\n",
    "order1_result=0\n",
    "for i in range(16):\n",
    "    order1_result+=sorted(acgt_o1.items())[i][1]*o1_p_log[i]\n",
    "    \n",
    "# 要把第一個的機率加上\n",
    "order1_result+=o0_p_log[3]\n",
    "print(order1_result)"
   ]
  },
  {
   "cell_type": "code",
   "execution_count": 6,
   "metadata": {},
   "outputs": [
    {
     "data": {
      "text/plain": [
       "' 本來冗長的寫法 '"
      ]
     },
     "execution_count": 6,
     "metadata": {},
     "output_type": "execute_result"
    }
   ],
   "source": [
    "\"\"\" 本來冗長的寫法 \"\"\"\n",
    "# atcg_o1=np.zeros(16, dtype=int)\n",
    "# for i in range(99999):      # i=0~999998\n",
    "#     if (genome[i]+genome[i+1])=='aa': atcg_o1[0]+=1\n",
    "#     elif genome[i]+genome[i+1]=='at': atcg_o1[1]+=1\n",
    "#     elif genome[i]+genome[i+1]=='ac': atcg_o1[2]+=1\n",
    "#     elif genome[i]+genome[i+1]=='ag': atcg_o1[3]+=1\n",
    "#     elif genome[i]+genome[i+1]=='ta': atcg_o1[4]+=1\n",
    "#     elif genome[i]+genome[i+1]=='tt': atcg_o1[5]+=1\n",
    "#     elif genome[i]+genome[i+1]=='tc': atcg_o1[6]+=1\n",
    "#     elif genome[i]+genome[i+1]=='tg': atcg_o1[7]+=1\n",
    "#     elif genome[i]+genome[i+1]=='ca': atcg_o1[8]+=1\n",
    "#     elif genome[i]+genome[i+1]=='ct': atcg_o1[9]+=1\n",
    "#     elif genome[i]+genome[i+1]=='cc': atcg_o1[10]+=1\n",
    "#     elif genome[i]+genome[i+1]=='cg': atcg_o1[11]+=1\n",
    "#     elif genome[i]+genome[i+1]=='ga': atcg_o1[12]+=1\n",
    "#     elif genome[i]+genome[i+1]=='gt': atcg_o1[13]+=1\n",
    "#     elif genome[i]+genome[i+1]=='gc': atcg_o1[14]+=1\n",
    "#     elif genome[i]+genome[i+1]=='gg': atcg_o1[15]+=1\n",
    "# sum=99999\n",
    "# o1_p=[atcg_o1[0]/sum,atcg_o1[1]/sum,atcg_o1[2]/sum,atcg_o1[3]/sum,atcg_o1[4]/sum,atcg_o1[5]/sum,atcg_o1[6]/sum,atcg_o1[7]/sum,atcg_o1[8]/sum,atcg_o1[9]/sum,atcg_o1[10]/sum,atcg_o1[11]/sum,atcg_o1[12]/sum,atcg_o1[13]/sum,atcg_o1[14]/sum,atcg_o1[15]/sum,]\n",
    "# o1_p_log=[math.log(o1_p[0], 2),math.log(o1_p[1], 2),math.log(o1_p[2], 2),math.log(o1_p[3], 2),math.log(o1_p[4], 2),math.log(o1_p[5], 2),math.log(o1_p[6], 2),math.log(o1_p[7], 2),math.log(o1_p[8], 2),math.log(o1_p[9], 2),math.log(o1_p[10], 2),math.log(o1_p[11], 2),math.log(o1_p[12], 2),math.log(o1_p[13], 2),math.log(o1_p[14], 2),math.log(o1_p[15], 2)]\n",
    "\n",
    "# order1_result=0\n",
    "# for i in range(16):\n",
    "#     order1_result+=atcg_o1[i]*o1_p_log[i]\n",
    "    \n",
    "# # 要把第一個的機率加上\n",
    "# order1_result+=order0_possibility_log[1]\n",
    "# print(order1_result)"
   ]
  },
  {
   "cell_type": "code",
   "execution_count": 7,
   "metadata": {},
   "outputs": [
    {
     "name": "stdout",
     "output_type": "stream",
     "text": [
      "4651\n",
      "('aaa', 4651)\n",
      "-192099.86954829996\n"
     ]
    }
   ],
   "source": [
    "\"\"\"order 2\"\"\"\n",
    "acgt_o2={}\n",
    "\n",
    "for i in range(99998):\n",
    "    if genome[i:i+3] not in acgt_o2:\n",
    "        acgt_o2[genome[i:i+3]] = 1\n",
    "    else:\n",
    "        acgt_o2[genome[i:i+3]] += 1\n",
    "        \n",
    "print(acgt_o2['aaa'])\n",
    "print(sorted(acgt_o2.items())[0])\n",
    "\n",
    "# for i in range(64):\n",
    "#     print(sorted(acgt_o2.items())[i])\n",
    "# print(sum(acgt_o2.values()))\n",
    "\n",
    "o2_p=[]\n",
    "o2_p_log=[]\n",
    "# 機率是條件機率，不是除與全部的次數 Ex: ac出現的機率是 a先出現\"後\" c出現的機率!!!\n",
    "# 感覺這邊或許會有更好的寫法\n",
    "for i in range(64):\n",
    "    num=sorted(acgt_o2.items())[i][1]\n",
    "    pre_total=sorted(acgt_o1.items())[int(i/4)][1]\n",
    "    o2_p.append(num/pre_total)\n",
    "    o2_p_log.append(math.log(num/pre_total,2))\n",
    "\n",
    "order2_result=0\n",
    "for i in range(64):\n",
    "    order2_result+=sorted(acgt_o2.items())[i][1]*o2_p_log[i]\n",
    "    \n",
    "# 要把第一個的機率加上\n",
    "order2_result+=o0_p_log[3]+o1_p_log[15]\n",
    "print(order2_result)"
   ]
  },
  {
   "cell_type": "code",
   "execution_count": 8,
   "metadata": {},
   "outputs": [
    {
     "name": "stdout",
     "output_type": "stream",
     "text": [
      "颜色:red white yellow red white\n",
      "盒子:box3 box 2 box 2 box 2 box 2\n",
      "概率值:0.0001133999999999999\n"
     ]
    }
   ],
   "source": [
    "from hmmlearn import hmm\n",
    "states = [\"box 1\", \"box 2\", \"box3\"]\n",
    "n_states = len(states)\n",
    "\n",
    "observations = [\"red\", \"white\",\"yellow\"]\n",
    "n_observations = len(observations)\n",
    "\n",
    "start_probability = np.array([0.2, 0.4, 0.4])\n",
    "\n",
    "transition_probability = np.array([\n",
    "  [0.5, 0.2, 0.3],\n",
    "  [0.3, 0.5, 0.2],\n",
    "  [0.2, 0.3, 0.5]\n",
    "])\n",
    "\n",
    "emission_probability = np.array([\n",
    "  [0.5, 0.2, 0.3],\n",
    "  [0.4, 0.3, 0.3],\n",
    "  [0.7, 0.1, 0.2]\n",
    "])\n",
    "\n",
    "model = hmm.MultinomialHMM(n_components=n_states)\n",
    "model.startprob_=start_probability\n",
    "model.transmat_=transition_probability\n",
    "model.emissionprob_=emission_probability\n",
    "\n",
    "se = np.array([[0, 1, 2, 0, 1]]).T\n",
    "logprob, box_index = model.decode(se, algorithm='viterbi')\n",
    "print(\"颜色:\", end=\"\")\n",
    "print(\" \".join(map(lambda t: observations[t], [0, 1, 2, 0, 1])))\n",
    "print(\"盒子:\", end=\"\")\n",
    "print(\" \".join(map(lambda t: states[t], box_index)))\n",
    "print(\"概率值:\", end=\"\")\n",
    "print(np.exp(logprob)) # 这个是因为在hmmlearn底层将概率进行了对数化，防止出现乘积为0的情况"
   ]
  },
  {
   "cell_type": "code",
   "execution_count": 9,
   "metadata": {},
   "outputs": [],
   "source": [
    "S1=[]\n",
    "for i in range(100000):\n",
    "    if genome[i]=='a': S1.append(0)\n",
    "    elif genome[i]=='c': S1.append(1)\n",
    "    elif genome[i]=='g': S1.append(2)\n",
    "    elif genome[i]=='t': S1.append(3)\n",
    "S=np.array(S1).reshape((-1,1))\n",
    "\n",
    "S2=[]\n",
    "for i in range(100000):\n",
    "    if genome_another[i]=='a': S2.append(0)\n",
    "    elif genome_another[i]=='c': S2.append(1)\n",
    "    elif genome_another[i]=='g': S2.append(2)\n",
    "    elif genome_another[i]=='t': S2.append(3)\n",
    "        \n",
    "S2_np=np.array(S2).reshape((-1,1))"
   ]
  },
  {
   "cell_type": "code",
   "execution_count": 10,
   "metadata": {},
   "outputs": [
    {
     "name": "stdout",
     "output_type": "stream",
     "text": [
      "输出根据数据训练出来的π\n",
      "[3.33863046e-01 4.98749079e-15 6.66136954e-01]\n",
      "输出根据数据训练出来的A\n",
      "[[0.34895268 0.28388543 0.3671619 ]\n",
      " [0.26999823 0.46615045 0.26385132]\n",
      " [0.32759831 0.30149305 0.37090863]]\n",
      "输出根据数据训练出来的B\n",
      "[[0.29224022 0.08001682 0.25898202 0.36876093]\n",
      " [0.43314887 0.36881292 0.12154532 0.07649288]\n",
      " [0.210824   0.15744894 0.25196575 0.37976132]]\n"
     ]
    }
   ],
   "source": [
    "states = ['State1', 'State2', 'State3']\n",
    "obs = ['a', 'c', 'g', 't']\n",
    "n_states = len(states)\n",
    "m_obs = len(obs)\n",
    "\n",
    "model2 = hmm.MultinomialHMM(n_components=n_states, n_iter=20, tol=0.001)\n",
    "\n",
    "model2.fit(S)\n",
    "print(\"输出根据数据训练出来的π\")\n",
    "print(model2.startprob_)\n",
    "print(\"输出根据数据训练出来的A\")\n",
    "print(model2.transmat_)\n",
    "print(\"输出根据数据训练出来的B\")\n",
    "print(model2.emissionprob_)"
   ]
  },
  {
   "cell_type": "code",
   "execution_count": 11,
   "metadata": {},
   "outputs": [
    {
     "name": "stdout",
     "output_type": "stream",
     "text": [
      "概率值:-205007.7861578334\n"
     ]
    }
   ],
   "source": [
    "logprob, box_index = model2.decode(S, algorithm='viterbi')\n",
    "print(\"概率值:\", end=\"\")\n",
    "print(logprob) # 这个是因为在hmmlearn底层将概率进行了对数化，防止出现乘积为0的情况"
   ]
  },
  {
   "cell_type": "code",
   "execution_count": 12,
   "metadata": {},
   "outputs": [
    {
     "name": "stdout",
     "output_type": "stream",
     "text": []
    }
   ],
   "source": [
    "print(\"S:\", end=\"\")\n",
    "print(\" \".join(map(lambda t: obs[t], S1)))"
   ]
  },
  {
   "cell_type": "code",
   "execution_count": 13,
   "metadata": {},
   "outputs": [
    {
     "name": "stdout",
     "output_type": "stream",
     "text": []
    }
   ],
   "source": [
    "print(\"State:\", end=\"\")\n",
    "print(\" \".join(map(lambda t: states[t], box_index)))"
   ]
  },
  {
   "cell_type": "code",
   "execution_count": 14,
   "metadata": {},
   "outputs": [
    {
     "name": "stdout",
     "output_type": "stream",
     "text": [
      "概率值:-206826.19358330723\n"
     ]
    }
   ],
   "source": [
    "logprob2, box_index2 = model2.decode(S2_np, algorithm='viterbi')\n",
    "print(\"概率值:\", end=\"\")\n",
    "print(logprob2) # 这个是因为在hmmlearn底层将概率进行了对数化，防止出现乘积为0的情况"
   ]
  },
  {
   "cell_type": "code",
   "execution_count": null,
   "metadata": {},
   "outputs": [],
   "source": []
  }
 ],
 "metadata": {
  "celltoolbar": "Raw Cell Format",
  "kernelspec": {
   "display_name": "Python 3",
   "language": "python",
   "name": "python3"
  },
  "language_info": {
   "codemirror_mode": {
    "name": "ipython",
    "version": 3
   },
   "file_extension": ".py",
   "mimetype": "text/x-python",
   "name": "python",
   "nbconvert_exporter": "python",
   "pygments_lexer": "ipython3",
   "version": "3.8.8"
  }
 },
 "nbformat": 4,
 "nbformat_minor": 4
}
